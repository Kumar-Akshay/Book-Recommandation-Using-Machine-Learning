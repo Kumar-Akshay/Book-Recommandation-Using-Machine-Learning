{
 "cells": [
  {
   "cell_type": "code",
   "execution_count": 11,
   "metadata": {},
   "outputs": [],
   "source": [
    "import pandas as pd\n",
    "from scipy.sparse import csr_matrix\n",
    "from sklearn.neighbors import NearestNeighbors\n",
    "from fuzzywuzzy import process\n",
    "import pickle"
   ]
  },
  {
   "cell_type": "code",
   "execution_count": 73,
   "metadata": {},
   "outputs": [],
   "source": [
    "class recommandationclass:\n",
    "    \n",
    "    def __init__(self):\n",
    "        pass\n",
    "    def recommandBook(self,book_name):\n",
    "        df_book=pd.read_csv('Ebook.csv', usecols=['Ebook_Id','Ebook_name'], dtype={'Ebook_Id':'int32','Ebook_name':'str'})\n",
    "        \n",
    "        df_ratings=pd.read_csv('Rating.csv', usecols=['EReview_id','memberId','Ebook_Id','ERating'],dtype={'EReview_id':'int32','memberId':'int32','Ebook_Id':'int32','ERating':'float32'})\n",
    "        book_rating = pd.merge(df_book,df_ratings,on=\"Ebook_Id\")\n",
    "        book_users=df_ratings.pivot(index='Ebook_Id', columns='memberId',values='ERating').fillna(0)\n",
    "        mat_book_users=csr_matrix(book_users.values)\n",
    "        model_knn= NearestNeighbors(metric='cosine', algorithm='brute',n_neighbors=10)\n",
    "        model_knn.fit(mat_book_users)\n",
    "        idx=process.extractOne(book_name, df_book['Ebook_name'])[2]\n",
    "        print(idx)\n",
    "        \n",
    "        books = list()\n",
    "        distances, indices=model_knn.kneighbors(mat_book_users[idx]  ,n_neighbors=8)\n",
    "        #print(distances)\n",
    "        for i in indices:\n",
    "            var = df_book['Ebook_name'][i].where(i!=idx).dropna()\n",
    "            #print(df_book['Ebook_name'])\n",
    "            books.append(var)\n",
    "        return books\n"
   ]
  },
  {
   "cell_type": "code",
   "execution_count": 75,
   "metadata": {},
   "outputs": [
    {
     "name": "stdout",
     "output_type": "stream",
     "text": [
      "3\n",
      "[[0.         0.         0.         0.01941931 0.07152331 0.07152331\n",
      "  0.29985994 0.50763404]]\n",
      "Rocking Chair\n",
      "HTML Book\n",
      "A new journey\n",
      "Mademoiselle at Arms\n",
      "Mongo DB Book\n",
      "Fast as Wind\n",
      "My First Book\n"
     ]
    }
   ],
   "source": [
    "s = recommandationclass() \n",
    "\n",
    "book_name = 'Git Cheat Sheet'\n",
    "book = s.recommandBook(book_name)\n",
    "for i in book[0]:\n",
    "     print(i)\n",
    "        "
   ]
  },
  {
   "cell_type": "code",
   "execution_count": 53,
   "metadata": {},
   "outputs": [],
   "source": [
    "with open(\"modelmake.pkl\",\"wb\") as f:\n",
    "    pickle.dump(s,f)\n"
   ]
  },
  {
   "cell_type": "code",
   "execution_count": 15,
   "metadata": {},
   "outputs": [],
   "source": [
    "with open(\"modelmake.pkl\",\"rb\") as f:\n",
    "    mp = pickle.load(f)"
   ]
  },
  {
   "cell_type": "code",
   "execution_count": 20,
   "metadata": {
    "scrolled": true
   },
   "outputs": [
    {
     "data": {
      "text/plain": [
       "['Fast as Wind',\n",
       " 'My First Book',\n",
       " 'Mongo DB Book',\n",
       " 'Mademoiselle at Arms',\n",
       " 'A new journey',\n",
       " 'Rocking Chair',\n",
       " 'Git Cheat Sheet']"
      ]
     },
     "execution_count": 20,
     "metadata": {},
     "output_type": "execute_result"
    }
   ],
   "source": [
    "book_name1 = 'The unveiling'\n",
    "var = mp.recommandBook(book_name1)\n",
    "str1 = []\n",
    "for i in var[0]:\n",
    "    str1.append(i)\n",
    "str1\n"
   ]
  },
  {
   "cell_type": "code",
   "execution_count": null,
   "metadata": {},
   "outputs": [],
   "source": []
  },
  {
   "cell_type": "code",
   "execution_count": null,
   "metadata": {},
   "outputs": [],
   "source": []
  },
  {
   "cell_type": "code",
   "execution_count": null,
   "metadata": {},
   "outputs": [],
   "source": []
  },
  {
   "cell_type": "code",
   "execution_count": null,
   "metadata": {},
   "outputs": [],
   "source": []
  },
  {
   "cell_type": "code",
   "execution_count": null,
   "metadata": {},
   "outputs": [],
   "source": [
    "\n"
   ]
  },
  {
   "cell_type": "code",
   "execution_count": null,
   "metadata": {},
   "outputs": [],
   "source": []
  }
 ],
 "metadata": {
  "kernelspec": {
   "display_name": "Python 3",
   "language": "python",
   "name": "python3"
  },
  "language_info": {
   "codemirror_mode": {
    "name": "ipython",
    "version": 3
   },
   "file_extension": ".py",
   "mimetype": "text/x-python",
   "name": "python",
   "nbconvert_exporter": "python",
   "pygments_lexer": "ipython3",
   "version": "3.7.4"
  }
 },
 "nbformat": 4,
 "nbformat_minor": 2
}
