{
 "cells": [
  {
   "cell_type": "markdown",
   "metadata": {},
   "source": [
    "KNN Recommandation System"
   ]
  },
  {
   "cell_type": "code",
   "execution_count": 34,
   "metadata": {},
   "outputs": [],
   "source": [
    "import numpy as np\n",
    "import pandas as pd\n",
    "from scipy.sparse import csr_matrix\n",
    "from sklearn.neighbors import NearestNeighbors\n",
    "from fuzzywuzzy import process\n",
    "import pickle"
   ]
  },
  {
   "cell_type": "code",
   "execution_count": 54,
   "metadata": {},
   "outputs": [],
   "source": [
    "class recommandationclass:\n",
    "    \n",
    "    def __init__(self):\n",
    "        pass\n",
    "    def recommandBook(self,book_name):\n",
    "        df_book=pd.read_csv('Ebook.csv', usecols=['Ebook_Id','Ebook_name'], dtype={'Ebook_Id':'int32','Ebook_name':'str'})\n",
    "        df_ratings=pd.read_csv('Rating.csv', usecols=['EReview_id','memberId','Ebook_Id','ERating'],dtype={'EReview_id':'int32','memberId':'int32','Ebook_Id':'int32','ERating':'float32'})\n",
    "        df = pd.merge(df_book,df_ratings,on='Ebook_Id')\n",
    "        combine_book_rating = df.dropna(axis = 0, subset = ['Ebook_name'])\n",
    "        book_ratingCount = (combine_book_rating.\n",
    "         groupby(by = ['Ebook_name'])['ERating'].\n",
    "         count().\n",
    "         reset_index().\n",
    "         rename(columns = {'ERating': 'totalRatingCount'})\n",
    "         [['Ebook_name', 'totalRatingCount']])\n",
    "        rating_with_totalRatingCount = combine_book_rating.merge(book_ratingCount, left_on = 'Ebook_name', right_on = 'Ebook_name', how = 'left')\n",
    "        popularity_threshold = 1\n",
    "        rating_popular_book= rating_with_totalRatingCount.query('totalRatingCount >= @popularity_threshold')\n",
    "        book_features_df=rating_popular_book.pivot_table(index='Ebook_name',columns='memberId',values='ERating').fillna(0)\n",
    "        book_features_df_matrix = csr_matrix(book_features_df.values)\n",
    "        model_knn = NearestNeighbors(metric = 'cosine', algorithm = 'brute')\n",
    "        model_knn.fit(book_features_df_matrix)\n",
    "        query_index=process.extractOne(book_name, book_ratingCount[\"Ebook_name\"])[2]\n",
    "        distances, indices = model_knn.kneighbors(book_features_df.iloc[query_index,:].values.reshape(1, -1), n_neighbors = 7)\n",
    "        recommandBooks = []\n",
    "        for i in range(0, len(distances.flatten())):\n",
    "            if i == 0:\n",
    "                pass\n",
    "            #print('\\nRecommendations for {0}:\\n'.format(book_features_df.index[query_index]))\n",
    "            else:\n",
    "                recommandBooks.append(book_features_df.index[indices.flatten()[i]])\n",
    "                #print(book_features_df.index[indices.flatten()[i]])\n",
    "        return recommandBooks\n",
    "    \n"
   ]
  },
  {
   "cell_type": "code",
   "execution_count": 58,
   "metadata": {},
   "outputs": [
    {
     "name": "stdout",
     "output_type": "stream",
     "text": [
      "The Best Ghost Stories\n",
      "My First Book\n",
      "Mademoiselle at Arms\n",
      "Rocking Chair\n",
      "Fast as Wind\n",
      "Pride and prejudice\n"
     ]
    }
   ],
   "source": [
    "obj = recommandationclass()\n",
    "Books=obj.recommandBook(\"A new journey\")\n",
    "for i in Books:\n",
    "    print(i)\n",
    "    "
   ]
  },
  {
   "cell_type": "code",
   "execution_count": 47,
   "metadata": {},
   "outputs": [],
   "source": [
    "with open(\"KnnRecommandModel.pkl\",\"wb\") as f:\n",
    "    pickle.dump(obj,f)"
   ]
  },
  {
   "cell_type": "code",
   "execution_count": 30,
   "metadata": {},
   "outputs": [],
   "source": [
    "with open(\"KnnRecommandModel.pkl\",\"rb\") as f:\n",
    "    obj = pickle.load(f)"
   ]
  },
  {
   "cell_type": "code",
   "execution_count": 33,
   "metadata": {},
   "outputs": [
    {
     "name": "stdout",
     "output_type": "stream",
     "text": [
      "The unveiling\n",
      "Rocking Chair\n",
      "Git Cheat Sheet\n",
      "Fast as Wind\n",
      "HTML Book\n",
      "Mademoiselle at Arms\n"
     ]
    }
   ],
   "source": [
    "book_name1 = 'The unveiling'\n",
    "var = obj.recommandBook(book_name1)\n",
    "str1 = []\n",
    "for i in var:\n",
    "    print(i)\n"
   ]
  },
  {
   "cell_type": "code",
   "execution_count": null,
   "metadata": {},
   "outputs": [],
   "source": []
  },
  {
   "cell_type": "code",
   "execution_count": null,
   "metadata": {},
   "outputs": [],
   "source": []
  },
  {
   "cell_type": "code",
   "execution_count": null,
   "metadata": {},
   "outputs": [],
   "source": []
  },
  {
   "cell_type": "code",
   "execution_count": null,
   "metadata": {},
   "outputs": [],
   "source": []
  },
  {
   "cell_type": "code",
   "execution_count": null,
   "metadata": {},
   "outputs": [],
   "source": []
  },
  {
   "cell_type": "code",
   "execution_count": null,
   "metadata": {},
   "outputs": [],
   "source": []
  },
  {
   "cell_type": "code",
   "execution_count": null,
   "metadata": {},
   "outputs": [],
   "source": []
  },
  {
   "cell_type": "code",
   "execution_count": null,
   "metadata": {},
   "outputs": [],
   "source": []
  }
 ],
 "metadata": {
  "kernelspec": {
   "display_name": "Python 3",
   "language": "python",
   "name": "python3"
  },
  "language_info": {
   "codemirror_mode": {
    "name": "ipython",
    "version": 3
   },
   "file_extension": ".py",
   "mimetype": "text/x-python",
   "name": "python",
   "nbconvert_exporter": "python",
   "pygments_lexer": "ipython3",
   "version": "3.7.4"
  }
 },
 "nbformat": 4,
 "nbformat_minor": 2
}
